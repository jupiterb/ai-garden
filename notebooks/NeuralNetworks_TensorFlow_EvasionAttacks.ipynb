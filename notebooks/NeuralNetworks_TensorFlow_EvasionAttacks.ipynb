{
 "cells": [
  {
   "cell_type": "markdown",
   "id": "a7842f92",
   "metadata": {},
   "source": [
    "# TensorFlow neural networks and evasion attacks\n",
    "-----\n",
    "#### Goals:\n",
    "* build TensorFlow classifier\n",
    "* perform evasion attacks \n",
    "* make classifers resistant to evasion attacks"
   ]
  },
  {
   "cell_type": "code",
   "execution_count": 14,
   "id": "2f97a4b6",
   "metadata": {},
   "outputs": [],
   "source": [
    "import warnings\n",
    "warnings.filterwarnings('ignore')\n",
    "\n",
    "import os\n",
    "os.environ['TF_CPP_MIN_LOG_LEVEL'] = '3' \n",
    "\n",
    "import jdc\n",
    "\n",
    "import tensorflow as tf\n",
    "from tensorflow.keras.layers import Dense, Flatten, Conv2D, Softmax, Lambda, GaussianNoise\n",
    "from tensorflow.keras import Model\n",
    "\n",
    "import ssl\n",
    "ssl._create_default_https_context = ssl._create_unverified_context\n",
    "\n",
    "import numpy as np\n",
    "from matplotlib import pyplot as plt\n",
    "\n",
    "from art.estimators.classification import TensorFlowV2Classifier\n",
    "from art.attacks.evasion import FastGradientMethod, CarliniLInfMethod"
   ]
  },
  {
   "cell_type": "markdown",
   "id": "3f1243eb",
   "metadata": {},
   "source": [
    "# Dataset\n",
    "-----\n",
    "### Load MNIST dataset "
   ]
  },
  {
   "cell_type": "code",
   "execution_count": 2,
   "id": "9430b6e7",
   "metadata": {},
   "outputs": [
    {
     "data": {
      "image/png": "[encoded data removed]",
      "text/plain": [
       "<Figure size 288x288 with 1 Axes>"
      ]
     },
     "metadata": {
      "needs_background": "light"
     },
     "output_type": "display_data"
    }
   ],
   "source": [
    "(x_train, y_train), (x_test, y_test) = tf.keras.datasets.mnist.load_data()\n",
    "\n",
    "plt.matshow(x_train[123])\n",
    "plt.show()"
   ]
  },
  {
   "cell_type": "markdown",
   "id": "127f37d5",
   "metadata": {},
   "source": [
    "### Data preparation"
   ]
  },
  {
   "cell_type": "code",
   "execution_count": 3,
   "id": "59d5cf23",
   "metadata": {},
   "outputs": [],
   "source": [
    "x_train, x_test = x_train / 255.0, x_test / 255.0\n",
    "\n",
    "x_train = x_train.astype(np.float32)\n",
    "x_test = x_test.astype(np.float32)\n",
    "\n",
    "x_train = x_train[..., tf.newaxis]\n",
    "x_test = x_test[..., tf.newaxis]\n",
    "\n",
    "train_ds = tf.data.Dataset.from_tensor_slices((x_train, y_train)).shuffle(10000).batch(32)\n",
    "test_ds = tf.data.Dataset.from_tensor_slices((x_test, y_test)).batch(32)"
   ]
  },
  {
   "cell_type": "markdown",
   "id": "097e802c",
   "metadata": {},
   "source": [
    "# Neural network classifier\n",
    "---\n",
    "### TensorFlow model for digit recognition"
   ]
  },
  {
   "cell_type": "code",
   "execution_count": 4,
   "id": "4ece718d",
   "metadata": {},
   "outputs": [],
   "source": [
    "class TfModel(Model):\n",
    "    \n",
    "    def __init__(self, filters=4, kernerl_size=4):\n",
    "        super(TfModel, self).__init__()\n",
    "        self.conv1 = Conv2D(filters=filters, kernel_size=kernerl_size, activation='relu')\n",
    "        self.flatten = Flatten()\n",
    "        self.dense1 = Dense(10, activation='softmax')\n",
    "\n",
    "    def call(self, x):\n",
    "        x = self.conv1(x)\n",
    "        x = self.flatten(x)\n",
    "        x = self.dense1(x)\n",
    "        return x"
   ]
  },
  {
   "cell_type": "markdown",
   "id": "5d366ab2",
   "metadata": {},
   "source": [
    "### Neural network class for training. Metrics for training and testing"
   ]
  },
  {
   "cell_type": "code",
   "execution_count": 5,
   "id": "8036a7b0",
   "metadata": {},
   "outputs": [],
   "source": [
    "class NeuralNetworkTrainer():\n",
    "    \n",
    "    def __init__(self, model):\n",
    "        self._model = model\n",
    "        self._loss = tf.keras.losses.SparseCategoricalCrossentropy()\n",
    "        self._optimizer = tf.keras.optimizers.Adam()\n",
    "        \n",
    "        self._train_loss = tf.keras.metrics.Mean(name='train_loss')\n",
    "        self._train_accuracy = tf.keras.metrics.SparseCategoricalAccuracy(name='train_accuracy')\n",
    "\n",
    "        self._test_loss = tf.keras.metrics.Mean(name='test_loss')\n",
    "        self._test_accuracy = tf.keras.metrics.SparseCategoricalAccuracy(name='test_accuracy')\n",
    "        \n",
    "    def get_classifier(self, nb_classes, input_shape):\n",
    "        return TensorFlowV2Classifier(\n",
    "            model          = self._model,\n",
    "            nb_classes     = nb_classes,\n",
    "            input_shape    = input_shape, \n",
    "            loss_object    = self._loss,               \n",
    "            clip_values    = (0, 1), \n",
    "            channels_first = False\n",
    "        )"
   ]
  },
  {
   "cell_type": "markdown",
   "id": "4e68755c",
   "metadata": {},
   "source": [
    "### Train method "
   ]
  },
  {
   "cell_type": "code",
   "execution_count": 6,
   "id": "e9b5302b",
   "metadata": {},
   "outputs": [],
   "source": [
    "%%add_to NeuralNetworkTrainer\n",
    "\n",
    "@tf.function\n",
    "def _train(self, samples, labels):\n",
    "    with tf.GradientTape() as tape:\n",
    "        predictions = self._model(samples)\n",
    "        loss = self._loss(labels, predictions)\n",
    "\n",
    "    gradients = tape.gradient(loss, self._model.trainable_variables)\n",
    "    self._optimizer.apply_gradients(zip(gradients, self._model.trainable_variables))\n",
    "    self._train_loss(loss)\n",
    "    self._train_accuracy(labels, predictions)\n",
    "\n",
    "@tf.function\n",
    "def _test(self, samples, labels):\n",
    "    predictions = self._model(samples)\n",
    "    loss = self._loss(labels, predictions)\n",
    "    self._test_loss(loss)\n",
    "    self._test_accuracy(labels, predictions)\n",
    "\n",
    "def train(self, train_ds, test_ds, epoches):\n",
    "    for epoch in range(epoches):\n",
    "        for samples, labels in train_ds:\n",
    "            self._train(samples, labels)\n",
    "\n",
    "        for test_samples, test_labels in test_ds:\n",
    "            self._test(test_samples, test_labels)\n",
    "\n",
    "        print('Epoch {}, Train Accuraccy: {}, Test Accurracy: {}'.format(\n",
    "            epoch+1, self._train_accuracy.result(), self._test_accuracy.result()))"
   ]
  },
  {
   "cell_type": "markdown",
   "id": "bd6e0e43",
   "metadata": {},
   "source": [
    "### Test method"
   ]
  },
  {
   "cell_type": "code",
   "execution_count": 7,
   "id": "794312e8",
   "metadata": {},
   "outputs": [],
   "source": [
    "%%add_to NeuralNetworkTrainer\n",
    "\n",
    "def test(self, x_test, y_test):\n",
    "    y_test_pred = np.argmax(self._model(x_test), axis=1)\n",
    "    accuracy_test = np.sum(y_test_pred == y_test) / len(y_test)\n",
    "    print('Accuracy on test data: {}'.format(accuracy_test))\n",
    "    return accuracy_test"
   ]
  },
  {
   "cell_type": "markdown",
   "id": "d34c69de",
   "metadata": {},
   "source": [
    "### Training and evaluating"
   ]
  },
  {
   "cell_type": "code",
   "execution_count": 8,
   "id": "46306aee",
   "metadata": {},
   "outputs": [
    {
     "name": "stdout",
     "output_type": "stream",
     "text": [
      "Epoch 1, Train Accuraccy: 0.9226833581924438, Test Accurracy: 0.9563999772071838\n",
      "Epoch 2, Train Accuraccy: 0.9423333406448364, Test Accurracy: 0.9617999792098999\n",
      "Epoch 3, Train Accuraccy: 0.9521055817604065, Test Accurracy: 0.9659666419029236\n",
      "Epoch 4, Train Accuraccy: 0.9580374956130981, Test Accurracy: 0.9680500030517578\n",
      "Epoch 5, Train Accuraccy: 0.962090015411377, Test Accurracy: 0.9701799750328064\n",
      "Accuracy on test data: 0.9787\n"
     ]
    },
    {
     "data": {
      "text/plain": [
       "0.9787"
      ]
     },
     "execution_count": 8,
     "metadata": {},
     "output_type": "execute_result"
    }
   ],
   "source": [
    "nn = NeuralNetworkTrainer(TfModel())\n",
    "nn.train(train_ds, test_ds, epoches=5)\n",
    "nn.test(x_test, y_test)"
   ]
  },
  {
   "cell_type": "code",
   "execution_count": 9,
   "id": "731fa13c",
   "metadata": {},
   "outputs": [
    {
     "name": "stdout",
     "output_type": "stream",
     "text": [
      "Prediction: 2:\n"
     ]
    },
    {
     "data": {
      "image/png": "[encoded data removed]",
      "text/plain": [
       "<Figure size 288x288 with 1 Axes>"
      ]
     },
     "metadata": {
      "needs_background": "light"
     },
     "output_type": "display_data"
    }
   ],
   "source": [
    "classifier = nn.get_classifier(10, x_train[0].shape)\n",
    "\n",
    "index = 456\n",
    "\n",
    "prediction = np.argmax(classifier.model.predict(np.array([x_test[index]])), axis=1)[0]\n",
    "print('Prediction: {}:'.format(prediction))\n",
    "\n",
    "plt.matshow(x_test[index])\n",
    "plt.show()"
   ]
  },
  {
   "cell_type": "markdown",
   "id": "bcdadc2d",
   "metadata": {},
   "source": [
    "# Evasion attacks\n",
    "---\n",
    "### Fast Gradient Sign Method attack"
   ]
  },
  {
   "cell_type": "code",
   "execution_count": 10,
   "id": "1f6a9fb8",
   "metadata": {},
   "outputs": [],
   "source": [
    "def perform_attack(attack, x_data, y_data):\n",
    "    x_data_adv = attack.generate(x_data)\n",
    "    \n",
    "    y_data_predictions = np.argmax(classifier.model(x_data_adv), axis=1)\n",
    "    accuracy_adv = np.sum(y_data_predictions == y_data) / len(y_data)\n",
    "\n",
    "    perturbation = np.mean(np.abs((x_data_adv - x_data)))\n",
    "\n",
    "    print('Accuracy on adversarial test data: {}'.format(accuracy_adv))\n",
    "    print('Average perturbation: {}'.format(perturbation))\n",
    "    \n",
    "    return x_data_adv, attack\n",
    "\n",
    "def perform_fgsm_attack(classifier, x_data, y_data):\n",
    "    attack = FastGradientMethod(estimator=classifier)\n",
    "    return perform_attack(attack, x_data, y_data)"
   ]
  },
  {
   "cell_type": "code",
   "execution_count": 11,
   "id": "46db3fcb",
   "metadata": {},
   "outputs": [
    {
     "name": "stdout",
     "output_type": "stream",
     "text": [
      "Accuracy on adversarial test data: 0.0188\n",
      "Average perturbation: 0.16788528859615326\n",
      "After attack:\n",
      "Prediction: 1:\n"
     ]
    },
    {
     "data": {
      "image/png": "[encoded data removed]",
      "text/plain": [
       "<Figure size 288x288 with 1 Axes>"
      ]
     },
     "metadata": {
      "needs_background": "light"
     },
     "output_type": "display_data"
    }
   ],
   "source": [
    "x_test_adv, attack = perform_fgsm_attack(classifier, x_test, y_test)\n",
    "\n",
    "print('After attack:')\n",
    "\n",
    "prediction = np.argmax(classifier.model.predict(np.array([x_test_adv[index]])), axis=1)[0]\n",
    "print('Prediction: {}:'.format(prediction))\n",
    "\n",
    "plt.matshow(x_test_adv[index])\n",
    "plt.show()"
   ]
  },
  {
   "cell_type": "markdown",
   "id": "704282e1",
   "metadata": {},
   "source": [
    "### Carlini & Wagner Infinity-norm attack"
   ]
  },
  {
   "cell_type": "code",
   "execution_count": 12,
   "id": "0445ac5e",
   "metadata": {},
   "outputs": [],
   "source": [
    "def perform_carlini_wagner_attack(classifier, x_data, y_data):\n",
    "    attack = CarliniLInfMethod(classifier=classifier, \n",
    "                               max_iter=25, \n",
    "                               learning_rate=0.06, \n",
    "                               initial_const=1e0, \n",
    "                               largest_const=2e0)\n",
    "    return perform_attack(attack, x_data, y_data)"
   ]
  },
  {
   "cell_type": "code",
   "execution_count": 13,
   "id": "379acfc6",
   "metadata": {},
   "outputs": [
    {
     "data": {
      "application/vnd.jupyter.widget-view+json": {
       "model_id": "5553ac4230f5476bb3a059357cd7d5bd",
       "version_major": 2,
       "version_minor": 0
      },
      "text/plain": [
       "C&W L_inf:   0%|          | 0/10000 [00:00<?, ?it/s]"
      ]
     },
     "metadata": {},
     "output_type": "display_data"
    },
    {
     "name": "stdout",
     "output_type": "stream",
     "text": [
      "WARNING:tensorflow:Calling GradientTape.gradient on a persistent tape inside its context is significantly less efficient than calling it outside the context (it causes the gradient ops to be recorded on the tape, leading to increased CPU and memory usage). Only call GradientTape.gradient inside the context if you actually want to trace the gradient in order to compute higher order derivatives.\n",
      "Accuracy on adversarial test data: 0.304\n",
      "Average perturbation: 0.0195643100887537\n",
      "After attack:\n",
      "Prediction: 1:\n"
     ]
    },
    {
     "data": {
      "image/png": "[encoded data removed]",
      "text/plain": [
       "<Figure size 288x288 with 1 Axes>"
      ]
     },
     "metadata": {
      "needs_background": "light"
     },
     "output_type": "display_data"
    }
   ],
   "source": [
    "x_test_adv, attack = perform_carlini_wagner_attack(classifier, x_test, y_test)\n",
    "\n",
    "print('After attack:')\n",
    "\n",
    "prediction = np.argmax(classifier.model.predict(np.array([x_test_adv[index]])), axis=1)[0]\n",
    "print('Prediction: {}:'.format(prediction))\n",
    "\n",
    "plt.matshow(x_test_adv[index])\n",
    "plt.show()"
   ]
  },
  {
   "cell_type": "markdown",
   "id": "3d707b5f",
   "metadata": {},
   "source": [
    "# Defence\n",
    "-----\n",
    "### TensorFlow model for digit recognition with defence \n",
    "* softmax with temperature\n",
    "* adding noise to the input\n",
    "* additional conv layer"
   ]
  },
  {
   "cell_type": "code",
   "execution_count": 78,
   "id": "9c1c3de8",
   "metadata": {},
   "outputs": [],
   "source": [
    "class TfModelV2(Model):\n",
    "    \n",
    "    def __init__(self, filters=4, kernerl_size=4, nosie=0.2, temperature=30):\n",
    "        super(TfModelV2, self).__init__()\n",
    "        self.noised = GaussianNoise(nosie)\n",
    "        self.conv1 = Conv2D(filters=filters, kernel_size=kernerl_size, activation='relu')\n",
    "        self.conv2 = Conv2D(filters=filters, kernel_size=kernerl_size, activation='relu')\n",
    "        self.flatten = Flatten()\n",
    "        self.dense1 = Dense(10)\n",
    "        self.apply_temperature = Lambda(lambda x: x / temperature)\n",
    "        self.softmax = Softmax()\n",
    "\n",
    "    def call(self, x):\n",
    "        x = self.noised(x)\n",
    "        x = self.conv1(x)\n",
    "        x = self.conv2(x)\n",
    "        x = self.flatten(x)\n",
    "        x = self.dense1(x)\n",
    "        x = self.apply_temperature(x)\n",
    "        x = self.softmax(x)\n",
    "        return x"
   ]
  },
  {
   "cell_type": "markdown",
   "id": "e6436570",
   "metadata": {},
   "source": [
    "### Training and evaluating initial model"
   ]
  },
  {
   "cell_type": "code",
   "execution_count": 80,
   "id": "2431b909",
   "metadata": {},
   "outputs": [
    {
     "name": "stdout",
     "output_type": "stream",
     "text": [
      "Epoch 1, Train Accuraccy: 0.8766833543777466, Test Accurracy: 0.9286999702453613\n",
      "Epoch 2, Train Accuraccy: 0.9090666770935059, Test Accurracy: 0.9456499814987183\n",
      "Epoch 3, Train Accuraccy: 0.9272888898849487, Test Accurracy: 0.9541333317756653\n",
      "Epoch 4, Train Accuraccy: 0.9381208419799805, Test Accurracy: 0.9589750170707703\n",
      "Epoch 5, Train Accuraccy: 0.9453133344650269, Test Accurracy: 0.9618200063705444\n",
      "Epoch 6, Train Accuraccy: 0.9505000114440918, Test Accurracy: 0.9642666578292847\n",
      "Epoch 7, Train Accuraccy: 0.9543523788452148, Test Accurracy: 0.9661571383476257\n",
      "Epoch 8, Train Accuraccy: 0.9574687480926514, Test Accurracy: 0.9675750136375427\n",
      "Epoch 9, Train Accuraccy: 0.9600870609283447, Test Accurracy: 0.9685444235801697\n",
      "Accuracy on test data: 0.9763\n",
      "Prediction: 1:\n"
     ]
    },
    {
     "data": {
      "image/png": "[encoded data removed]",
      "text/plain": [
       "<Figure size 288x288 with 1 Axes>"
      ]
     },
     "metadata": {
      "needs_background": "light"
     },
     "output_type": "display_data"
    }
   ],
   "source": [
    "nn_init = NeuralNetworkTrainer(TfModelV2())\n",
    "nn_init.train(train_ds, test_ds, epoches=9)\n",
    "nn_init.test(x_test, y_test)\n",
    "\n",
    "classifier_init = nn_init.get_classifier(10, x_train[0].shape)\n",
    "\n",
    "index = 777\n",
    "\n",
    "prediction = np.argmax(classifier_init.model.predict(np.array([x_test[index]])), axis=1)[0]\n",
    "print('Prediction: {}:'.format(prediction))\n",
    "\n",
    "plt.matshow(x_test[index])\n",
    "plt.show()"
   ]
  },
  {
   "cell_type": "markdown",
   "id": "3b6711ed",
   "metadata": {},
   "source": [
    "### Distilled training and evaluating"
   ]
  },
  {
   "cell_type": "code",
   "execution_count": 81,
   "id": "9d7f2da3",
   "metadata": {},
   "outputs": [],
   "source": [
    "%%add_to NeuralNetworkTrainer\n",
    "\n",
    "def for_distilled(self):\n",
    "    self._loss = tf.keras.losses.KLDivergence()\n",
    "    self._train_accuracy = tf.keras.metrics.KLDivergence(name='train_accuracy')\n",
    "    self._test_accuracy = tf.keras.metrics.KLDivergence(name='test_accuracy')"
   ]
  },
  {
   "cell_type": "code",
   "execution_count": 82,
   "id": "65f0b0eb",
   "metadata": {},
   "outputs": [
    {
     "name": "stdout",
     "output_type": "stream",
     "text": [
      "\n",
      "Epoch 1, Train Accuraccy: 0.33128470182418823, Test Accurracy: 0.1551070213317871\n",
      "Epoch 2, Train Accuraccy: 0.23554614186286926, Test Accurracy: 0.1328110694885254\n",
      "Epoch 3, Train Accuraccy: 0.19184711575508118, Test Accurracy: 0.11991806328296661\n",
      "Epoch 4, Train Accuraccy: 0.1656331866979599, Test Accurracy: 0.1112193837761879\n",
      "Epoch 5, Train Accuraccy: 0.14740031957626343, Test Accurracy: 0.10270563513040543\n",
      "Epoch 6, Train Accuraccy: 0.13349279761314392, Test Accurracy: 0.09595492482185364\n",
      "Epoch 7, Train Accuraccy: 0.12168008089065552, Test Accurracy: 0.08895135670900345\n",
      "Epoch 8, Train Accuraccy: 0.11158575117588043, Test Accurracy: 0.08283405750989914\n",
      "Epoch 9, Train Accuraccy: 0.10298755764961243, Test Accurracy: 0.07772008329629898\n",
      "Accuracy on test data: 0.9705\n",
      "Prediction: 1:\n"
     ]
    },
    {
     "data": {
      "image/png": "[encoded data removed]",
      "text/plain": [
       "<Figure size 288x288 with 1 Axes>"
      ]
     },
     "metadata": {
      "needs_background": "light"
     },
     "output_type": "display_data"
    }
   ],
   "source": [
    "y_train_proba = classifier_init.model(x_train)\n",
    "y_test_proba = classifier_init.model(x_test)\n",
    "\n",
    "train_ds_dist = tf.data.Dataset.from_tensor_slices((x_train, y_train_proba)).shuffle(10000).batch(32)\n",
    "test_ds_dist = tf.data.Dataset.from_tensor_slices((x_test, y_test_proba)).batch(32)\n",
    "\n",
    "print()\n",
    "\n",
    "nn_dist = NeuralNetworkTrainer(TfModelV2())\n",
    "nn_dist.for_distilled()\n",
    "nn_dist.train(train_ds_dist, test_ds_dist, epoches=9)\n",
    "nn_dist.test(x_test, y_test)\n",
    "\n",
    "classifier_dist = nn_dist.get_classifier(10, x_train[0].shape)\n",
    "\n",
    "prediction = np.argmax(classifier_dist.model.predict(np.array([x_test[index]])), axis=1)[0]\n",
    "print('Prediction: {}:'.format(prediction))\n",
    "\n",
    "plt.matshow(x_test[index])\n",
    "plt.show()\n",
    "\n",
    "# Train Accuraccy and Test Accurracy are the loss value in this case.  "
   ]
  },
  {
   "cell_type": "markdown",
   "id": "6b8590a2",
   "metadata": {},
   "source": [
    "### Perform Fast Gradient Sign Method attack"
   ]
  },
  {
   "cell_type": "code",
   "execution_count": 83,
   "id": "d8b941e5",
   "metadata": {},
   "outputs": [
    {
     "name": "stdout",
     "output_type": "stream",
     "text": [
      "Accuracy on adversarial test data: 0.1344\n",
      "Average perturbation: 0.1705431193113327\n",
      "After attack:\n",
      "Prediction: 5:\n"
     ]
    },
    {
     "data": {
      "image/png": "[encoded data removed]",
      "text/plain": [
       "<Figure size 288x288 with 1 Axes>"
      ]
     },
     "metadata": {
      "needs_background": "light"
     },
     "output_type": "display_data"
    }
   ],
   "source": [
    "x_test_adv, attack = perform_fgsm_attack(classifier_dist, x_test, y_test)\n",
    "\n",
    "print('After attack:')\n",
    "\n",
    "prediction = np.argmax(classifier_dist.model.predict(np.array([x_test_adv[index]])), axis=1)[0]\n",
    "print('Prediction: {}:'.format(prediction))\n",
    "\n",
    "plt.matshow(x_test_adv[index])\n",
    "plt.show()"
   ]
  }
 ],
 "metadata": {
  "kernelspec": {
   "display_name": "Python 3",
   "language": "python",
   "name": "python3"
  },
  "language_info": {
   "codemirror_mode": {
    "name": "ipython",
    "version": 3
   },
   "file_extension": ".py",
   "mimetype": "text/x-python",
   "name": "python",
   "nbconvert_exporter": "python",
   "pygments_lexer": "ipython3",
   "version": "3.8.8"
  }
 },
 "nbformat": 4,
 "nbformat_minor": 5
}
