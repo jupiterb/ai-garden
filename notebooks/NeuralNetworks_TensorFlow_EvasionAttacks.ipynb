{
 "cells": [
  {
   "cell_type": "markdown",
   "id": "a7842f92",
   "metadata": {},
   "source": [
    "# TensorFlow neural networks and evasion attacks\n",
    "-----\n",
    "#### Goals:\n",
    "* build TensorFlow classifier\n",
    "* perform evasion attacks \n",
    "* use adversiaal data in training to make model more immune to such attacks "
   ]
  },
  {
   "cell_type": "code",
   "execution_count": 1,
   "id": "2f97a4b6",
   "metadata": {},
   "outputs": [],
   "source": [
    "import warnings\n",
    "warnings.filterwarnings('ignore')\n",
    "\n",
    "import os\n",
    "os.environ['TF_CPP_MIN_LOG_LEVEL'] = '3' \n",
    "\n",
    "import jdc\n",
    "\n",
    "import tensorflow as tf\n",
    "from tensorflow.keras.layers import Dense, Flatten, Conv2D\n",
    "from tensorflow.keras import Model\n",
    "\n",
    "import ssl\n",
    "ssl._create_default_https_context = ssl._create_unverified_context\n",
    "\n",
    "import numpy as np\n",
    "from matplotlib import pyplot as plt\n",
    "\n",
    "from art.estimators.classification import TensorFlowV2Classifier\n",
    "from art.attacks.evasion import FastGradientMethod, LowProFool"
   ]
  },
  {
   "cell_type": "markdown",
   "id": "3f1243eb",
   "metadata": {},
   "source": [
    "# Dataset\n",
    "-----\n",
    "### Load MNIST dataset "
   ]
  },
  {
   "cell_type": "code",
   "execution_count": 2,
   "id": "9430b6e7",
   "metadata": {},
   "outputs": [
    {
     "data": {
      "image/png": "[encoded data removed]",
      "text/plain": [
       "<Figure size 288x288 with 1 Axes>"
      ]
     },
     "metadata": {
      "needs_background": "light"
     },
     "output_type": "display_data"
    }
   ],
   "source": [
    "(x_train, y_train), (x_test, y_test) = tf.keras.datasets.mnist.load_data()\n",
    "\n",
    "plt.matshow(x_train[123])\n",
    "plt.show()"
   ]
  },
  {
   "cell_type": "markdown",
   "id": "127f37d5",
   "metadata": {},
   "source": [
    "### Data preparation"
   ]
  },
  {
   "cell_type": "code",
   "execution_count": 3,
   "id": "59d5cf23",
   "metadata": {},
   "outputs": [],
   "source": [
    "x_train, x_test = x_train / 255.0, x_test / 255.0\n",
    "\n",
    "x_train = x_train.astype(np.float32)\n",
    "x_test = x_test.astype(np.float32)\n",
    "\n",
    "x_train = x_train[..., tf.newaxis]\n",
    "x_test = x_test[..., tf.newaxis]\n",
    "\n",
    "train_ds = tf.data.Dataset.from_tensor_slices((x_train, y_train)).shuffle(10000).batch(32)\n",
    "test_ds = tf.data.Dataset.from_tensor_slices((x_test, y_test)).batch(32)"
   ]
  },
  {
   "cell_type": "markdown",
   "id": "097e802c",
   "metadata": {},
   "source": [
    "# Neural network classifier\n",
    "---\n",
    "### TensorFlow model for digit recognition"
   ]
  },
  {
   "cell_type": "code",
   "execution_count": 4,
   "id": "4ece718d",
   "metadata": {},
   "outputs": [],
   "source": [
    "class TfModel(Model):\n",
    "    \n",
    "    def __init__(self, filters=4, kernerl_size=4):\n",
    "        super(TfModel, self).__init__()\n",
    "        self.conv1 = Conv2D(filters=filters, kernel_size=kernerl_size, activation='relu')\n",
    "        self.flatten = Flatten()\n",
    "        self.dense1 = Dense(10, activation='softmax')\n",
    "\n",
    "    def call(self, x):\n",
    "        x = self.conv1(x)\n",
    "        x = self.flatten(x)\n",
    "        x = self.dense1(x)\n",
    "        return x"
   ]
  },
  {
   "cell_type": "markdown",
   "id": "5d366ab2",
   "metadata": {},
   "source": [
    "### Neural network class for training. Metrics for training and testing"
   ]
  },
  {
   "cell_type": "code",
   "execution_count": 5,
   "id": "8036a7b0",
   "metadata": {},
   "outputs": [],
   "source": [
    "class NeuralNetworkTrainer():\n",
    "    \n",
    "    def __init__(self, model):\n",
    "        self._model = model\n",
    "        self._loss = tf.keras.losses.SparseCategoricalCrossentropy()\n",
    "        self._optimizer = tf.keras.optimizers.Adam()\n",
    "        \n",
    "        self._train_loss = tf.keras.metrics.Mean(name='train_loss')\n",
    "        self._train_accuracy = tf.keras.metrics.SparseCategoricalAccuracy(name='train_accuracy')\n",
    "\n",
    "        self._test_loss = tf.keras.metrics.Mean(name='test_loss')\n",
    "        self._test_accuracy = tf.keras.metrics.SparseCategoricalAccuracy(name='test_accuracy')\n",
    "        \n",
    "    def get_classifier(self, nb_classes, input_shape):\n",
    "        return TensorFlowV2Classifier(\n",
    "            model          = self._model,\n",
    "            nb_classes     = nb_classes,\n",
    "            input_shape    = input_shape, \n",
    "            loss_object    = self._loss,               \n",
    "            clip_values    = (0, 1), \n",
    "            channels_first = False\n",
    "        )"
   ]
  },
  {
   "cell_type": "markdown",
   "id": "4e68755c",
   "metadata": {},
   "source": [
    "### Train method "
   ]
  },
  {
   "cell_type": "code",
   "execution_count": 6,
   "id": "e9b5302b",
   "metadata": {},
   "outputs": [],
   "source": [
    "%%add_to NeuralNetworkTrainer\n",
    "\n",
    "@tf.function\n",
    "def _train(self, samples, labels):\n",
    "    with tf.GradientTape() as tape:\n",
    "        predictions = self._model(samples)\n",
    "        loss = self._loss(labels, predictions)\n",
    "\n",
    "    gradients = tape.gradient(loss, self._model.trainable_variables)\n",
    "    self._optimizer.apply_gradients(zip(gradients, self._model.trainable_variables))\n",
    "    self._train_loss(loss)\n",
    "    self._train_accuracy(labels, predictions)\n",
    "\n",
    "@tf.function\n",
    "def _test(self, samples, labels):\n",
    "    predictions = self._model(samples)\n",
    "    loss = self._loss(labels, predictions)\n",
    "    self._test_loss(loss)\n",
    "    self._test_accuracy(labels, predictions)\n",
    "\n",
    "def train(self, train_ds, test_ds, epoches):\n",
    "    for epoch in range(epoches):\n",
    "        for samples, labels in train_ds:\n",
    "            self._train(samples, labels)\n",
    "\n",
    "        for test_samples, test_labels in test_ds:\n",
    "            self._test(test_samples, test_labels)\n",
    "\n",
    "        print('Epoch {}, Train Accuraccy: {}, Test Accurracy: {}'.format(\n",
    "            epoch+1, self._train_accuracy.result(), self._test_accuracy.result()))"
   ]
  },
  {
   "cell_type": "markdown",
   "id": "bd6e0e43",
   "metadata": {},
   "source": [
    "### Test method"
   ]
  },
  {
   "cell_type": "code",
   "execution_count": 7,
   "id": "794312e8",
   "metadata": {},
   "outputs": [],
   "source": [
    "%%add_to NeuralNetworkTrainer\n",
    "\n",
    "def test(self, x_test, y_test):\n",
    "    y_test_pred = np.argmax(self._model(x_test), axis=1)\n",
    "    accuracy_test = np.sum(y_test_pred == y_test) / len(y_test)\n",
    "    print('Accuracy on test data: {}'.format(accuracy_test))\n",
    "    return accuracy_test"
   ]
  },
  {
   "cell_type": "markdown",
   "id": "d34c69de",
   "metadata": {},
   "source": [
    "### Training and evaluating"
   ]
  },
  {
   "cell_type": "code",
   "execution_count": 8,
   "id": "46306aee",
   "metadata": {},
   "outputs": [
    {
     "name": "stdout",
     "output_type": "stream",
     "text": [
      "Epoch 1, Train Accuraccy: 0.9240999817848206, Test Accurracy: 0.95169997215271\n",
      "Epoch 2, Train Accuraccy: 0.9434999823570251, Test Accurracy: 0.9607499837875366\n",
      "Epoch 3, Train Accuraccy: 0.9530777931213379, Test Accurracy: 0.964900016784668\n",
      "Epoch 4, Train Accuraccy: 0.9591708183288574, Test Accurracy: 0.9678000211715698\n",
      "Epoch 5, Train Accuraccy: 0.9633166790008545, Test Accurracy: 0.9690200090408325\n",
      "Accuracy on test data: 0.9739\n"
     ]
    },
    {
     "data": {
      "text/plain": [
       "0.9739"
      ]
     },
     "execution_count": 8,
     "metadata": {},
     "output_type": "execute_result"
    }
   ],
   "source": [
    "nn = NeuralNetworkTrainer(TfModel())\n",
    "nn.train(train_ds, test_ds, epoches=5)\n",
    "nn.test(x_test, y_test)"
   ]
  },
  {
   "cell_type": "code",
   "execution_count": 9,
   "id": "731fa13c",
   "metadata": {},
   "outputs": [
    {
     "name": "stdout",
     "output_type": "stream",
     "text": [
      "Prediction: 2:\n"
     ]
    },
    {
     "data": {
      "image/png": "[encoded data removed]",
      "text/plain": [
       "<Figure size 288x288 with 1 Axes>"
      ]
     },
     "metadata": {
      "needs_background": "light"
     },
     "output_type": "display_data"
    }
   ],
   "source": [
    "classifier = nn.get_classifier(10, x_train[0].shape)\n",
    "\n",
    "index = 456\n",
    "\n",
    "prediction = np.argmax(classifier.model.predict(np.array([x_test[index]])), axis=1)[0]\n",
    "print('Prediction: {}:'.format(prediction))\n",
    "\n",
    "plt.matshow(x_test[index])\n",
    "plt.show()"
   ]
  },
  {
   "cell_type": "markdown",
   "id": "bcdadc2d",
   "metadata": {},
   "source": [
    "# Evasion attacks\n",
    "---\n",
    "### Fast Gradient Sign Method attack"
   ]
  },
  {
   "cell_type": "code",
   "execution_count": 10,
   "id": "1f6a9fb8",
   "metadata": {},
   "outputs": [],
   "source": [
    "def perform_fgsm_attack(classifier, x_data, y_data):\n",
    "    attack = FastGradientMethod(estimator=classifier)\n",
    "\n",
    "    x_data_adv = attack.generate(x_data)\n",
    "\n",
    "    y_data_predictions = np.argmax(classifier.model(x_data_adv), axis=1)\n",
    "    accuracy_adv = np.sum(y_data_predictions == y_data) / len(y_data)\n",
    "\n",
    "    perturbation = np.mean(np.abs((x_data_adv - x_data)))\n",
    "\n",
    "    print('Accuracy on adversarial test data: {}'.format(accuracy_adv))\n",
    "    print('Average perturbation: {}'.format(perturbation))\n",
    "    \n",
    "    return x_data_adv, attack"
   ]
  },
  {
   "cell_type": "code",
   "execution_count": 11,
   "id": "77c7fd45",
   "metadata": {},
   "outputs": [
    {
     "name": "stdout",
     "output_type": "stream",
     "text": [
      "Accuracy on adversarial test data: 0.0205\n",
      "Average perturbation: 0.17283348739147186\n",
      "Prediction: 1:\n"
     ]
    },
    {
     "data": {
      "image/png": "[encoded data removed]",
      "text/plain": [
       "<Figure size 288x288 with 1 Axes>"
      ]
     },
     "metadata": {
      "needs_background": "light"
     },
     "output_type": "display_data"
    }
   ],
   "source": [
    "x_test_adv, attack = perform_fgsm_attack(classifier, x_test, y_test)\n",
    "\n",
    "prediction = np.argmax(classifier.model.predict(np.array([x_test_adv[index]])), axis=1)[0]\n",
    "print('Prediction: {}:'.format(prediction))\n",
    "\n",
    "plt.matshow(x_test[index])\n",
    "plt.show()"
   ]
  },
  {
   "cell_type": "markdown",
   "id": "b9bfa57a",
   "metadata": {},
   "source": [
    "### Train neural network with adversial and original data"
   ]
  },
  {
   "cell_type": "code",
   "execution_count": 12,
   "id": "0a6fbcd1",
   "metadata": {},
   "outputs": [
    {
     "name": "stdout",
     "output_type": "stream",
     "text": [
      "Epoch 1, Train Accuraccy: 0.9600916504859924, Test Accurracy: 0.9481499791145325\n",
      "Epoch 2, Train Accuraccy: 0.9683333039283752, Test Accurracy: 0.958175003528595\n",
      "Epoch 3, Train Accuraccy: 0.9724416732788086, Test Accurracy: 0.9622833132743835\n",
      "Epoch 4, Train Accuraccy: 0.9749958515167236, Test Accurracy: 0.9649624824523926\n",
      "Epoch 5, Train Accuraccy: 0.9768800139427185, Test Accurracy: 0.9666500091552734\n",
      "adversial data:\n",
      "Accuracy on test data: 0.9698\n",
      "original data:\n",
      "Accuracy on test data: 0.977\n"
     ]
    }
   ],
   "source": [
    "x_train_adv = attack.generate(x_train)\n",
    "\n",
    "train_ds_full = tf.data.Dataset.from_tensor_slices(\n",
    "    (np.concatenate((x_train_adv, x_train)), np.concatenate((y_train, y_train)))\n",
    ").shuffle(10000).batch(32)\n",
    "\n",
    "x_test_full = np.concatenate((x_test_adv, x_test))\n",
    "y_test_full = np.concatenate((y_test, y_test))\n",
    "\n",
    "test_ds_full = tf.data.Dataset.from_tensor_slices(\n",
    "   (x_test_full, y_test_full)).batch(32)\n",
    "\n",
    "nn = NeuralNetworkTrainer(TfModel())\n",
    "nn.train(train_ds_full, test_ds_full, epoches=5)\n",
    "\n",
    "print('adversial data:')\n",
    "nn.test(x_test_adv, y_test)\n",
    "\n",
    "print('original data:')\n",
    "nn.test(x_test, y_test)\n",
    "\n",
    "classifier_v2 = nn.get_classifier(10, x_train_adv[0].shape)"
   ]
  },
  {
   "cell_type": "markdown",
   "id": "84946712",
   "metadata": {},
   "source": [
    "### Perform same attack on it"
   ]
  },
  {
   "cell_type": "code",
   "execution_count": 13,
   "id": "3a11a666",
   "metadata": {},
   "outputs": [
    {
     "name": "stdout",
     "output_type": "stream",
     "text": [
      "Original data:\n",
      "Accuracy on adversarial test data: 0.0172\n",
      "Average perturbation: 0.1682496815919876\n",
      "All data:\n",
      "Accuracy on adversarial test data: 0.01855\n",
      "Average perturbation: 0.2038622796535492\n",
      "Prediction: 7:\n"
     ]
    },
    {
     "data": {
      "image/png": "[encoded data removed]",
      "text/plain": [
       "<Figure size 288x288 with 1 Axes>"
      ]
     },
     "metadata": {
      "needs_background": "light"
     },
     "output_type": "display_data"
    }
   ],
   "source": [
    "print('Original data:')\n",
    "_ = perform_fgsm_attack(classifier_v2, x_test, y_test)\n",
    "\n",
    "print('All data:')\n",
    "x_test_adv_new, _ = perform_fgsm_attack(classifier_v2, x_test_full, y_test_full)\n",
    "\n",
    "prediction = np.argmax(classifier_v2.model.predict(np.array([x_test_adv_new[index]])), axis=1)[0]\n",
    "print('Prediction: {}:'.format(prediction))\n",
    "\n",
    "plt.matshow(x_test[index])\n",
    "plt.show()"
   ]
  },
  {
   "cell_type": "markdown",
   "id": "5aeee077",
   "metadata": {},
   "source": [
    "### Concusions\n",
    "* the result of an evasion attack depends on the data and the classifier\n",
    "* training the network with data from a previous attack does not make it much more resistant to subsequent attacks\n",
    "* "
   ]
  },
  {
   "cell_type": "code",
   "execution_count": null,
   "id": "886c2339",
   "metadata": {},
   "outputs": [],
   "source": []
  }
 ],
 "metadata": {
  "kernelspec": {
   "display_name": "Python 3",
   "language": "python",
   "name": "python3"
  },
  "language_info": {
   "codemirror_mode": {
    "name": "ipython",
    "version": 3
   },
   "file_extension": ".py",
   "mimetype": "text/x-python",
   "name": "python",
   "nbconvert_exporter": "python",
   "pygments_lexer": "ipython3",
   "version": "3.8.8"
  }
 },
 "nbformat": 4,
 "nbformat_minor": 5
}
